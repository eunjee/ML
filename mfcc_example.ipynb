{
  "nbformat": 4,
  "nbformat_minor": 0,
  "metadata": {
    "colab": {
      "name": "mfcc_example.ipynb",
      "provenance": [],
      "authorship_tag": "ABX9TyNPP80J8X72OfdEnc1ZT//t",
      "include_colab_link": true
    },
    "kernelspec": {
      "name": "python3",
      "display_name": "Python 3"
    },
    "language_info": {
      "name": "python"
    }
  },
  "cells": [
    {
      "cell_type": "markdown",
      "metadata": {
        "id": "view-in-github",
        "colab_type": "text"
      },
      "source": [
        "<a href=\"https://colab.research.google.com/github/eunjee/ML/blob/main/mfcc_example.ipynb\" target=\"_parent\"><img src=\"https://colab.research.google.com/assets/colab-badge.svg\" alt=\"Open In Colab\"/></a>"
      ]
    },
    {
      "cell_type": "code",
      "metadata": {
        "id": "vB8qwGzifuSI",
        "colab": {
          "base_uri": "https://localhost:8080/"
        },
        "outputId": "6bffc662-9fb9-443a-d091-21d9081e9e5f"
      },
      "source": [
        "from google.colab import drive\n",
        "drive.mount(\"/gdrive\", force_remount=True)"
      ],
      "execution_count": null,
      "outputs": [
        {
          "output_type": "stream",
          "name": "stdout",
          "text": [
            "Mounted at /gdrive\n"
          ]
        }
      ]
    },
    {
      "cell_type": "markdown",
      "metadata": {
        "id": "Y3Kic6Zjf-Op"
      },
      "source": [
        "# **MFCC구현**\n",
        "\n",
        "- librosa 라이브러리 사용도 고려..\n",
        "\n",
        "참조 - https://ratsgo.github.io/speechbook/docs/fe/mfcc\n",
        "\n",
        "### 1. 음성파일 불러오기\n",
        "- 지금은 예시 하나만 해놓음\n",
        "- 경로 불러오는 것 수정해야함 \n",
        "import os를 쓰던지 pathlib을 쓰던지 \n",
        "- 음성 downsampling해야함 (미정)"
      ]
    },
    {
      "cell_type": "code",
      "metadata": {
        "id": "l3-PoSo8lmUq"
      },
      "source": [
        "import scipy.io.wavfile"
      ],
      "execution_count": null,
      "outputs": []
    },
    {
      "cell_type": "code",
      "metadata": {
        "id": "RMUbBFoVgMOM"
      },
      "source": [
        "import os\n",
        "root_dir = \"/gdrive/MyDrive/SR/n_0879\"\n",
        "\n",
        "[sample_rate,signal]=scipy.io.wavfile.read(os.path.join(root_dir, \"aa.wav\"))"
      ],
      "execution_count": 106,
      "outputs": []
    },
    {
      "cell_type": "code",
      "metadata": {
        "colab": {
          "base_uri": "https://localhost:8080/"
        },
        "id": "cinLBgbCmTq3",
        "outputId": "6d1c55a3-f651-433d-d06c-ff508f526c6c"
      },
      "source": [
        "sample_rate #음성신호 48비트로 양자화-> 16으로 downsampling을 해준다.(나중에)"
      ],
      "execution_count": null,
      "outputs": [
        {
          "output_type": "execute_result",
          "data": {
            "text/plain": [
              "48000"
            ]
          },
          "metadata": {},
          "execution_count": 27
        }
      ]
    },
    {
      "cell_type": "code",
      "metadata": {
        "id": "AXko2kYpv4SG"
      },
      "source": [
        "sample_rate=16000"
      ],
      "execution_count": 107,
      "outputs": []
    },
    {
      "cell_type": "code",
      "metadata": {
        "colab": {
          "base_uri": "https://localhost:8080/"
        },
        "id": "M6hry-fPmgU9",
        "outputId": "5ba61aae-7f3b-44e6-bdad-22645ed3a734"
      },
      "source": [
        "print(signal)\n",
        "len(signal)"
      ],
      "execution_count": null,
      "outputs": [
        {
          "output_type": "stream",
          "name": "stdout",
          "text": [
            "[ 0  0  0 ... 12  9  6]\n"
          ]
        },
        {
          "output_type": "execute_result",
          "data": {
            "text/plain": [
              "146880"
            ]
          },
          "metadata": {},
          "execution_count": 60
        }
      ]
    },
    {
      "cell_type": "code",
      "metadata": {
        "colab": {
          "base_uri": "https://localhost:8080/"
        },
        "id": "EgfNXk_dmjmE",
        "outputId": "50116ed2-e8f1-4975-eb07-7c748cd9b926"
      },
      "source": [
        "len(signal)/sample_rate"
      ],
      "execution_count": null,
      "outputs": [
        {
          "output_type": "execute_result",
          "data": {
            "text/plain": [
              "9.18"
            ]
          },
          "metadata": {},
          "execution_count": 63
        }
      ]
    },
    {
      "cell_type": "code",
      "metadata": {
        "id": "cxBPUpGO3oDs"
      },
      "source": [
        "signal = signal[0:int(3.5 * sample_rate)] #3.5초까지만 자름"
      ],
      "execution_count": 108,
      "outputs": []
    },
    {
      "cell_type": "markdown",
      "metadata": {
        "id": "O-CqAHX4ol9Q"
      },
      "source": [
        "## 2. Preemphasis\n",
        "\n",
        "소리를 스펙트럼으로 변경하면 저주파 성분의 에너지가 고주파보다 많은 경향이 있다. \n",
        "\n",
        "**음성인식모델의 성능 개선을 위해 고주파 성분의 에너지를 올려주는 전처리 과정**\n",
        "\n",
        "자세한 개선효과는 블로그 참조...\n",
        "\n",
        "**수식**\n",
        "t번째 시점의 원시 음성 신호를 Xt라고 할 때, preemphasis는 다음과 같이 계산\n",
        "```\n",
        "Yt=Xt−αXt−1\n",
        "```\n",
        "α값으로는 보통 0.95 혹은 0.97을 사용\n",
        "\n"
      ]
    },
    {
      "cell_type": "code",
      "metadata": {
        "id": "ep8cOiq4pCaA"
      },
      "source": [
        "import numpy as np\n",
        "pre_emphasis = 0.97\n",
        "emphasized_signal = np.append(signal[0], signal[1:]- pre_emphasis*signal[:-1])"
      ],
      "execution_count": 109,
      "outputs": []
    },
    {
      "cell_type": "markdown",
      "metadata": {
        "id": "RlV-Z52dqjGi"
      },
      "source": [
        "## 3. Framing\n",
        "\n",
        "푸리에 변환을 위해 음성 신호를 아주 짧은 시간 단위로 쪼개는 과정"
      ]
    },
    {
      "cell_type": "code",
      "metadata": {
        "id": "pESATwVgqf9a"
      },
      "source": [
        "frame_size = 0.025\n",
        "frame_stride = 0.01\n",
        "frame_length, frame_step = frame_size * sample_rate, frame_stride * sample_rate\n",
        "signal_length = len(emphasized_signal)\n",
        "frame_length = int(round(frame_length))\n",
        "frame_step = int(round(frame_step))\n",
        "num_frames = int(np.ceil(float(np.abs(signal_length - frame_length)) / frame_step))\n",
        "pad_signal_length = num_frames * frame_step + frame_length\n",
        "z = np.zeros((pad_signal_length - signal_length))\n",
        "pad_signal = np.append(emphasized_signal, z)\n",
        "indices = np.tile(np.arange(0, frame_length), (num_frames, 1)) + \\\n",
        "          np.tile(np.arange(0, num_frames * frame_step, frame_step), (frame_length, 1)).T\n",
        "frames = pad_signal[indices.astype(np.int32, copy=False)]"
      ],
      "execution_count": 110,
      "outputs": []
    },
    {
      "cell_type": "code",
      "metadata": {
        "colab": {
          "base_uri": "https://localhost:8080/"
        },
        "id": "1mR3N6VxqtI5",
        "outputId": "8c448109-037a-460f-9c87-44632634ae85"
      },
      "source": [
        "len(pad_signal)"
      ],
      "execution_count": 112,
      "outputs": [
        {
          "output_type": "execute_result",
          "data": {
            "text/plain": [
              "56080"
            ]
          },
          "metadata": {},
          "execution_count": 112
        }
      ]
    },
    {
      "cell_type": "code",
      "metadata": {
        "colab": {
          "base_uri": "https://localhost:8080/"
        },
        "id": "CNgjFnOcqyuO",
        "outputId": "42e06941-4c84-49ec-ffe9-a312d0764ff8"
      },
      "source": [
        "indices"
      ],
      "execution_count": 111,
      "outputs": [
        {
          "output_type": "execute_result",
          "data": {
            "text/plain": [
              "array([[    0,     1,     2, ...,   397,   398,   399],\n",
              "       [  160,   161,   162, ...,   557,   558,   559],\n",
              "       [  320,   321,   322, ...,   717,   718,   719],\n",
              "       ...,\n",
              "       [55200, 55201, 55202, ..., 55597, 55598, 55599],\n",
              "       [55360, 55361, 55362, ..., 55757, 55758, 55759],\n",
              "       [55520, 55521, 55522, ..., 55917, 55918, 55919]])"
            ]
          },
          "metadata": {},
          "execution_count": 111
        }
      ]
    },
    {
      "cell_type": "markdown",
      "metadata": {
        "id": "6hrEMxwOq3IV"
      },
      "source": [
        "## 4. Windowing\n",
        "경계를 스무딩하는 기법"
      ]
    },
    {
      "cell_type": "code",
      "metadata": {
        "id": "CMrcWLMGq2aR"
      },
      "source": [
        "#hamming window\n",
        "frames *= np.array([0.54 - 0.46 * np.cos((2 * np.pi * n) / (frame_length - 1)) for n in range(frame_length)])"
      ],
      "execution_count": 113,
      "outputs": []
    },
    {
      "cell_type": "markdown",
      "metadata": {
        "id": "OZE6JwWJrL9D"
      },
      "source": [
        "## 5. Fourer TransForm\n",
        "\n",
        "음성 신호를 주파수로 변경"
      ]
    },
    {
      "cell_type": "code",
      "metadata": {
        "id": "4hCEau3IrAu2"
      },
      "source": [
        "#고속푸리에변환 사용\n",
        "NFFT = 512\n",
        "dft_frames = np.fft.rfft(frames, NFFT)"
      ],
      "execution_count": 114,
      "outputs": []
    },
    {
      "cell_type": "code",
      "metadata": {
        "colab": {
          "base_uri": "https://localhost:8080/"
        },
        "id": "8rZPXzIgrcxo",
        "outputId": "529523d6-8cca-4219-efa5-240e9b44af25"
      },
      "source": [
        "np.fft.fft([0.2, 0.7, 0.5, 0.3, 0.1]) #예시"
      ],
      "execution_count": 115,
      "outputs": [
        {
          "output_type": "execute_result",
          "data": {
            "text/plain": [
              "array([ 1.8+0.j        , -0.2-0.68819096j, -0.2-0.16245985j,\n",
              "       -0.2+0.16245985j, -0.2+0.68819096j])"
            ]
          },
          "metadata": {},
          "execution_count": 115
        }
      ]
    },
    {
      "cell_type": "markdown",
      "metadata": {
        "id": "veKL5DHTrngw"
      },
      "source": [
        "## 6. Magnitude\n",
        "이산 푸리에 변환의 결과를 통해\n",
        "\n",
        "\n",
        "주파수 성분의 크기 - 진폭\n",
        "해당 주파수의 위치 - 위상\n",
        "을 알아낼 수 있다. \n",
        "\n",
        "\n",
        "MFCC를 구할 때는 음성인식에 불필요한 위상정보는 제거하고 진폭정보만을 남긴다. "
      ]
    },
    {
      "cell_type": "code",
      "metadata": {
        "id": "YbbD4TkCsWGw"
      },
      "source": [
        "mag_frames = np.absolute(dft_frames)"
      ],
      "execution_count": 116,
      "outputs": []
    },
    {
      "cell_type": "markdown",
      "metadata": {
        "id": "WT83wgtSsqC6"
      },
      "source": [
        "7. Power spectrum"
      ]
    },
    {
      "cell_type": "code",
      "metadata": {
        "id": "pMbYr9zdsnzr"
      },
      "source": [
        "pow_frames = ((1.0 / NFFT) * ((mag_frames) ** 2))"
      ],
      "execution_count": 117,
      "outputs": []
    },
    {
      "cell_type": "markdown",
      "metadata": {
        "id": "XzFEvhLRsu5h"
      },
      "source": [
        "8. Filter Banks"
      ]
    },
    {
      "cell_type": "code",
      "metadata": {
        "id": "lIgkBQxsszQl"
      },
      "source": [
        "nfilt = 40\n",
        "low_freq_mel = 0\n",
        "high_freq_mel = (2595 * np.log10(1 + (sample_rate / 2) / 700))  # Convert Hz to Mel\n",
        "mel_points = np.linspace(low_freq_mel, high_freq_mel, nfilt + 2)  # Equally spaced in Mel scale\n",
        "hz_points = (700 * (10**(mel_points / 2595) - 1))  # Convert Mel to Hz\n",
        "bin = np.floor((NFFT + 1) * hz_points / sample_rate)\n",
        "\n",
        "fbank = np.zeros((nfilt, int(np.floor(NFFT / 2 + 1))))\n",
        "for m in range(1, nfilt + 1):\n",
        "    f_m_minus = int(bin[m - 1])   # left\n",
        "    f_m = int(bin[m])             # center\n",
        "    f_m_plus = int(bin[m + 1])    # right\n",
        "    for k in range(f_m_minus, f_m):\n",
        "        fbank[m - 1, k] = (k - bin[m - 1]) / (bin[m] - bin[m - 1])\n",
        "    for k in range(f_m, f_m_plus):\n",
        "        fbank[m - 1, k] = (bin[m + 1] - k) / (bin[m + 1] - bin[m])"
      ],
      "execution_count": 147,
      "outputs": []
    },
    {
      "cell_type": "code",
      "metadata": {
        "id": "_6LzuZ7Ks43T"
      },
      "source": [
        "filter_banks = np.dot(pow_frames, fbank.T)\n",
        "filter_banks = np.where(filter_banks == 0, np.finfo(float).eps, filter_banks)  # Numerical Stability"
      ],
      "execution_count": 148,
      "outputs": []
    },
    {
      "cell_type": "markdown",
      "metadata": {
        "id": "TYJTbgqBs3fA"
      },
      "source": [
        "9. Log-Mel Spectrum"
      ]
    },
    {
      "cell_type": "code",
      "metadata": {
        "id": "tsgUv6KatCWd"
      },
      "source": [
        "filter_banks = 20 * np.log10(filter_banks)  # dB"
      ],
      "execution_count": 149,
      "outputs": []
    },
    {
      "cell_type": "markdown",
      "metadata": {
        "id": "3AOnkjkftEha"
      },
      "source": [
        "10. MFCCs\n",
        "\n",
        "- GMM모델에는 안좋을 수 있다. \n",
        "- Mel_Spectrum의 사용도 고려(9까지만)"
      ]
    },
    {
      "cell_type": "code",
      "metadata": {
        "id": "_58ekZO3to5E"
      },
      "source": [
        "from scipy.fftpack import dct\n",
        "num_ceps = 12\n",
        "mfcc_ex = dct(filter_banks, type=2, axis=1, norm='ortho')[:, 1 : (num_ceps + 1)] # Keep 2-13"
      ],
      "execution_count": 150,
      "outputs": []
    },
    {
      "cell_type": "code",
      "metadata": {
        "colab": {
          "base_uri": "https://localhost:8080/"
        },
        "id": "0bX-Qmy9tr3v",
        "outputId": "2ec0f1f6-6d48-46b8-b70b-87f3912205dd"
      },
      "source": [
        "mfcc_ex.shape"
      ],
      "execution_count": 123,
      "outputs": [
        {
          "output_type": "execute_result",
          "data": {
            "text/plain": [
              "(348, 12)"
            ]
          },
          "metadata": {},
          "execution_count": 123
        }
      ]
    },
    {
      "cell_type": "markdown",
      "metadata": {
        "id": "GQbR3tOAtwIu"
      },
      "source": [
        "PostProcessing"
      ]
    },
    {
      "cell_type": "code",
      "metadata": {
        "id": "s2g0feDKtvR8"
      },
      "source": [
        "#MFCCs에 사용하는 후처리\n",
        "(nframes, ncoeff) = mfcc_ex.shape\n",
        "cep_lifter = 22\n",
        "n = np.arange(ncoeff)\n",
        "lift = 1 + (cep_lifter / 2) * np.sin(np.pi * n / cep_lifter)\n",
        "mfcc_ex *= lift"
      ],
      "execution_count": 152,
      "outputs": []
    },
    {
      "cell_type": "code",
      "metadata": {
        "id": "1J2SKITat-as"
      },
      "source": [
        "#Mel_Spectrum에 사용하는 후처리\n",
        "filter_banks -= (np.mean(filter_banks, axis=0) + 1e-8)\n"
      ],
      "execution_count": 139,
      "outputs": []
    },
    {
      "cell_type": "code",
      "metadata": {
        "colab": {
          "base_uri": "https://localhost:8080/"
        },
        "id": "bFR8nJp1uC5X",
        "outputId": "a8a58e0e-67ec-494b-81a6-719c6ec7a9ce"
      },
      "source": [
        "mfcc_ex"
      ],
      "execution_count": 125,
      "outputs": [
        {
          "output_type": "execute_result",
          "data": {
            "text/plain": [
              "array([[  18.54803828, -112.29719614, -117.53819816, ...,  207.09955179,\n",
              "         285.10290363,   10.34533246],\n",
              "       [  79.61235737, -108.92804252, -148.72745051, ...,  141.06592021,\n",
              "         115.61077062,    3.123862  ],\n",
              "       [  91.10490384,  -88.0087442 , -178.94597624, ..., -118.81151613,\n",
              "           5.53752802, -161.90062543],\n",
              "       ...,\n",
              "       [ 179.0644176 ,  -88.99123906,   -2.05048156, ..., -137.85435001,\n",
              "         204.02384132,  -30.62387355],\n",
              "       [ 174.56752494, -123.15295867,  -43.91740193, ...,  -56.92108791,\n",
              "         195.79809126,  -45.92534816],\n",
              "       [ 163.73423342, -101.84933148,  -36.65537929, ...,  -39.92982977,\n",
              "         108.81508828, -203.72397024]])"
            ]
          },
          "metadata": {},
          "execution_count": 125
        }
      ]
    },
    {
      "cell_type": "code",
      "metadata": {
        "colab": {
          "base_uri": "https://localhost:8080/",
          "height": 297
        },
        "id": "n-thWRedxzmS",
        "outputId": "391ed32c-e638-40f9-cda4-83f077b2051e"
      },
      "source": [
        "#라이브러리 사용\n",
        "import matplotlib.pyplot as plt\n",
        "import librosa.display\n",
        "import librosa\n",
        "import numpy as np\n",
        "\n",
        "sample_rate=16000\n",
        "\n",
        "x = librosa.load(os.path.join(root_dir, \"aa.wav\"),sample_rate)[0]\n",
        "S = librosa.feature.melspectrogram(x, sr=sample_rate, n_mels=128)\n",
        "log_S = librosa.power_to_db(S, ref=np.max)\n",
        "mfcc = librosa.feature.mfcc(S=log_S, n_mfcc=20,lifter=22)\n",
        "\n",
        "delta2_mfcc = librosa.feature.delta(mfcc, order=2)\n",
        "\n",
        "plt.figure(figsize=(12, 4))\n",
        "librosa.display.specshow(delta2_mfcc)\n",
        "plt.ylabel('MFCC coeffs')\n",
        "plt.xlabel('Time')\n",
        "plt.title('MFCC')\n",
        "plt.colorbar()\n",
        "plt.tight_layout()"
      ],
      "execution_count": 129,
      "outputs": [
        {
          "output_type": "display_data",
          "data": {
            "image/png": "[encoded data removed]",
            "text/plain": [
              "<Figure size 864x288 with 2 Axes>"
            ]
          },
          "metadata": {
            "needs_background": "light"
          }
        }
      ]
    },
    {
      "cell_type": "markdown",
      "metadata": {
        "id": "CqToTAXe6L_o"
      },
      "source": [
        "참조사이트 - https://sanghyu.tistory.com/45"
      ]
    },
    {
      "cell_type": "code",
      "metadata": {
        "colab": {
          "base_uri": "https://localhost:8080/",
          "height": 243
        },
        "id": "Z93xpQgguYMW",
        "outputId": "4459e4e9-7561-45a8-8aeb-20e52739ed57"
      },
      "source": [
        "#위에서 만든 MFCC\n",
        "plt.figure(figsize=(12, 4))\n",
        "#delta2_mfcc_ex = librosa.feature.delta(mfcc_ex, order=2)\n",
        "librosa.display.specshow(mfcc_ex)\n",
        "plt.ylabel('MFCC coeffs')\n",
        "plt.xlabel('Time')\n",
        "plt.title('MFCC_ex')\n",
        "plt.colorbar()\n",
        "plt.tight_layout()"
      ],
      "execution_count": 153,
      "outputs": [
        {
          "output_type": "display_data",
          "data": {
            "image/png": "[encoded data removed]",
            "text/plain": [
              "<Figure size 864x288 with 2 Axes>"
            ]
          },
          "metadata": {
            "needs_background": "light"
          }
        }
      ]
    }
  ]
}